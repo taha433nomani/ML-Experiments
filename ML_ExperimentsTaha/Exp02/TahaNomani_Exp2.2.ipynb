{
 "cells": [
  {
   "cell_type": "code",
   "execution_count": 24,
   "id": "9de891c7",
   "metadata": {},
   "outputs": [],
   "source": [
    "import matplotlib.pyplot as plt\n",
    "import pandas as pd\n",
    "import numpy as np\n",
    "import tkinter as tk\n",
    "from tkinter import ttk\n",
    "from matplotlib.backends.backend_tkagg import FigureCanvasTkAgg\n",
    "from sklearn.model_selection import train_test_split\n",
    "from sklearn.linear_model import LinearRegression\n",
    "from sklearn.metrics import mean_squared_error, r2_score, mean_absolute_error"
   ]
  },
  {
   "cell_type": "code",
   "execution_count": 25,
   "id": "e8f85173",
   "metadata": {},
   "outputs": [],
   "source": [
    "class LinearRegressionApp:\n",
    "    def __init__(self,root):\n",
    "        self.root = root\n",
    "        self.root.title(\"Linear Regression Model for Salary Prediction\")\n",
    "        self.root.geometry(\"1000x600\")\n",
    "        self.df = pd.read_csv('placement.csv')\n",
    "        self.fig, self.ax = plt.subplots(figsize=(5, 5))\n",
    "        self.canvas = FigureCanvasTkAgg(self.fig, master=root)\n",
    "        self.canvas.draw()\n",
    "        self.canvas.get_tk_widget().pack(side=tk.LEFT, fill=tk.BOTH,expand=1)\n",
    "        self.create_widgets()\n",
    "        self.initial_plot()\n",
    "    def create_widgets(self):\n",
    "        self.frame_right = tk.Frame(self.root)\n",
    "        self.frame_right.pack(side=tk.LEFT, padx=20)\n",
    "        self.label_title = tk.Label(self.frame_right, text=\"Salary Prediction based on CGPA\", font=(\"Arial\", 16))\n",
    "        self.label_title.pack()\n",
    "        self.combo_analysis = ttk.Combobox(self.frame_right, values=[\n",
    "        'Initial Data',\n",
    "        'First Linear Regression',\n",
    "        'With Random Feature',\n",
    "        'With IQ Feature'\n",
    "])\n",
    "        self.combo_analysis.pack()\n",
    "        self.combo_analysis.bind(\"<<ComboboxSelected>>\", self.update_analysis)\n",
    "        self.label_metrics = tk.Label(self.frame_right, text='Metrics:')\n",
    "        self.label_metrics.pack()\n",
    "        self.text_metrics = tk.Text(self.frame_right, width=40, height=15)\n",
    "        self.text_metrics.pack()\n",
    "        self.combo_analysis.pack()\n",
    "        self.combo_analysis.bind(\"<<ComboboxSelected>>\", self.update_analysis)\n",
    "        self.label_metrics = tk.Label(self.frame_right, text='Metrics:')\n",
    "        self.label_metrics.pack()\n",
    "        self.text_metrics = tk.Text(self.frame_right, width=40, height=15)\n",
    "        self.text_metrics.pack()\n",
    "    def initial_plot(self):\n",
    "        self.ax.clear()\n",
    "        self.ax.scatter(self.df['cgpa'], self.df['package'], color='blue')\n",
    "        self.ax.set_title('Initial Data')\n",
    "        self.ax.set_xlabel('CGPA')\n",
    "        self.ax.set_ylabel('Salary')\n",
    "        self.canvas.draw()\n",
    "    def update_analysis(self,event):\n",
    "        analysis = self.combo_analysis.get()\n",
    "        if analysis == 'Initial Data':\n",
    "            self.initial_plot()\n",
    "            self.text_metrics.delete(1.0, tk.END)\n",
    "        elif analysis == 'First Linear Regression':\n",
    "            self.first_linear_regression()\n",
    "        elif analysis == 'With Random Feature':\n",
    "            self.with_random_feature()\n",
    "        elif analysis == 'With IQ Feature':\n",
    "            self.with_iq_feature()"
   ]
  },
  {
   "cell_type": "code",
   "execution_count": 26,
   "id": "14f7c1aa",
   "metadata": {},
   "outputs": [],
   "source": [
    "def first_linear_regression(self):\n",
    "    X = self.df.iloc[:, 0:1]\n",
    "    y = self.df.iloc[:, -1]\n",
    "    X_train, X_test, y_train, y_test = train_test_split(X, y, test_size=0.2, random_state=42)\n",
    "    lr = LinearRegression()\n",
    "    lr.fit(X_train, y_train)\n",
    "    y_pred = lr.predict(X_test)\n",
    "    self.display_metrics(y_test, y_pred, X_test.shape[0], X_test.shape[1])\n",
    "    self.ax.clear()\n",
    "    self.ax.scatter(self.df['cgpa'], self.df['package'])\n",
    "    self.ax.scatter(X_test, y_pred, color='red', label='Predicted')\n",
    "    self.ax.set_title('First Linear Regression')\n",
    "    self.ax.set_xlabel('CGPA')\n",
    "    self.ax.set_ylabel('Salary')\n",
    "    self.ax.legend()\n",
    "    self.canvas.draw()"
   ]
  },
  {
   "cell_type": "code",
   "execution_count": 27,
   "id": "0ea7ebfc",
   "metadata": {},
   "outputs": [],
   "source": [
    "def with_random_feature(self):\n",
    "    new_df1 = self.df.copy()\n",
    "    new_df1['random_feature'] = np.random.random(new_df1.shape[0])\n",
    "    new_df1 = new_df1[['cgpa', 'random_feature', 'package']]\n",
    "    X = new_df1.iloc[:, 0:2]\n",
    "    y = new_df1.iloc[:, -1]\n",
    "    X_train, X_test, y_train, y_test = train_test_split(X, y, test_size=0.2, random_state=42)\n",
    "    lr = LinearRegression()\n",
    "    lr.fit(X_train, y_train)\n",
    "    y_pred = lr.predict(X_test)\n",
    "    self.display_metrics(y_test, y_pred, X_test.shape[0], X_test.shape[1])\n",
    "    self.ax.clear()\n",
    "    self.ax.scatter(new_df1['random_feature'], new_df1['package'])\n",
    "    self.ax.set_xlabel('Random Feature')\n",
    "    self.ax.set_ylabel('Package (in LPA)')\n",
    "    self.canvas.draw()"
   ]
  },
  {
   "cell_type": "code",
   "execution_count": 28,
   "id": "ff29c3f9",
   "metadata": {},
   "outputs": [],
   "source": [
    "def with_iq_feature(self):\n",
    "    new_df2 = self.df.copy()\n",
    "    new_df2['iq'] = new_df2['package'] + (np.random.random(new_df2.shape[0]) * 10)\n",
    "    new_df2 = new_df2[['cgpa', 'iq', 'package']]\n",
    "    X = new_df2.iloc[:, 0:2]\n",
    "    y = new_df2.iloc[:, -1]\n",
    "    X_train ,X_test, y_train, y_test = train_test_split(X, y, test_size=0.2, random_state=42)\n",
    "    lr = LinearRegression()\n",
    "    lr.fit(X_train, y_train)\n",
    "    y_pred = lr.predict(X_test)\n",
    "    self.display_metrics(y_test, y_pred, X_test.shape[0], X_test.shape[1])\n",
    "    self.ax.clear()\n",
    "    self.ax.scatter(new_df2['iq'], new_df2['package'])\n",
    "    self.ax.set_xlabel('IQ Feature')\n",
    "    self.ax.set_ylabel('Package (in LPA)')\n",
    "    self.canvas.draw()\n",
    "def display_metrics(self, y_test, y_pred, n ,p):\n",
    "    mae = mean_absolute_error(y_test, y_pred)\n",
    "    mse = mean_squared_error(y_test, y_pred)\n",
    "    rmse = np.sqrt(mse)\n",
    "    r2 = r2_score(y_test, y_pred)\n",
    "    adj_r2 = 1 - ((1 - r2) * (n - 1) / (n - p - 1))\n",
    "    metrics_text = f\"MAE: {mae:.2f}\\nMSE: {mse:.2f}\\nRMSE: {rmse:.2f}\\nR²: {r2:.2f}\\nAdjusted R²: {adj_r2:.2f}\"\n",
    "    self.text_metrics.delete(1.0, tk.END)\n",
    "    self.text_metrics.insert(tk.END, metrics_text)"
   ]
  },
  {
   "cell_type": "code",
   "execution_count": 29,
   "id": "5e96c5e9",
   "metadata": {},
   "outputs": [
    {
     "data": {
      "image/png": "[encoded data removed]",
      "text/plain": [
       "<Figure size 636x600 with 1 Axes>"
      ]
     },
     "metadata": {},
     "output_type": "display_data"
    }
   ],
   "source": [
    "if __name__ == \"__main__\":\n",
    "    root = tk.Tk()\n",
    "    app = LinearRegressionApp(root)\n",
    "    root.mainloop()"
   ]
  },
  {
   "cell_type": "code",
   "execution_count": null,
   "id": "bf7736a0",
   "metadata": {},
   "outputs": [],
   "source": []
  },
  {
   "cell_type": "code",
   "execution_count": null,
   "id": "2e654d26",
   "metadata": {},
   "outputs": [],
   "source": []
  }
 ],
 "metadata": {
  "kernelspec": {
   "display_name": ".venv (3.12.4)",
   "language": "python",
   "name": "python3"
  },
  "language_info": {
   "codemirror_mode": {
    "name": "ipython",
    "version": 3
   },
   "file_extension": ".py",
   "mimetype": "text/x-python",
   "name": "python",
   "nbconvert_exporter": "python",
   "pygments_lexer": "ipython3",
   "version": "3.12.4"
  }
 },
 "nbformat": 4,
 "nbformat_minor": 5
}
